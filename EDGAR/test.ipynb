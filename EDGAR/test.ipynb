{
 "cells": [
  {
   "cell_type": "code",
   "execution_count": 1,
   "metadata": {},
   "outputs": [
    {
     "name": "stdout",
     "output_type": "stream",
     "text": [
      "(5, 2, 288, 600, 1200)\n"
     ]
    }
   ],
   "source": [
    "import os\n",
    "import numpy as np\n",
    "\n",
    "# 1. Get the current working directory\n",
    "current_dir = os.getcwd()\n",
    "\n",
    "# Load the memory-mapped tensor\n",
    "super_tensor_file = os.path.join(current_dir, \"kernelized_tensor.npy\")\n",
    "molecule_types = [\"CH4\", \"CO2\", \"CO2bio\", \"GWP\", \"N2O\"]\n",
    "data_types = [\"emi\", \"flx\"]\n",
    "\n",
    "# Load the super tensor\n",
    "super_tensor_shape = (5, 2, 288, 600, 1200)\n",
    "kernelized_tensor = np.memmap(super_tensor_file, dtype='float32', mode='r', shape=super_tensor_shape)\n",
    "\n",
    "print(kernelized_tensor.shape)"
   ]
  }
 ],
 "metadata": {
  "kernelspec": {
   "display_name": ".venv",
   "language": "python",
   "name": "python3"
  },
  "language_info": {
   "codemirror_mode": {
    "name": "ipython",
    "version": 3
   },
   "file_extension": ".py",
   "mimetype": "text/x-python",
   "name": "python",
   "nbconvert_exporter": "python",
   "pygments_lexer": "ipython3",
   "version": "3.11.9"
  }
 },
 "nbformat": 4,
 "nbformat_minor": 2
}
