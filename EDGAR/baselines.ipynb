{
 "cells": [
  {
   "cell_type": "code",
   "execution_count": 1,
   "metadata": {},
   "outputs": [],
   "source": [
    "import os\n",
    "import numpy as np\n",
    "\n",
    "# 1. Get the current working directory\n",
    "current_dir = os.getcwd()\n",
    "\n",
    "# Load the memory-mapped tensor\n",
    "super_tensor_file = os.path.join(current_dir, \"super_emissions_tensor.npy\")\n",
    "molecule_types = [\"CH4\", \"CO2\", \"CO2bio\", \"GWP\", \"N2O\"]\n",
    "data_types = [\"emi\", \"flx\"]\n",
    "\n",
    "# Load the super tensor\n",
    "super_tensor_shape = (5, 2, 288, 1800, 3600)\n",
    "super_tensor = np.memmap(super_tensor_file, dtype='float32', mode='r', shape=super_tensor_shape)"
   ]
  },
  {
   "cell_type": "code",
   "execution_count": 2,
   "metadata": {},
   "outputs": [
    {
     "data": {
      "text/plain": [
       "(5, 2, 288, 1800, 3600)"
      ]
     },
     "execution_count": 2,
     "metadata": {},
     "output_type": "execute_result"
    }
   ],
   "source": [
    "super_tensor.shape"
   ]
  },
  {
   "cell_type": "code",
   "execution_count": 3,
   "metadata": {},
   "outputs": [
    {
     "name": "stdout",
     "output_type": "stream",
     "text": [
      "(5, 2, 288, 600, 1200)\n"
     ]
    }
   ],
   "source": [
    "import numpy as np\n",
    "\n",
    "# Assuming you have already loaded your memory-mapped tensor as:\n",
    "# super_tensor = np.memmap(super_tensor_file, dtype='float32', mode='r', shape=(5, 2, 288, 1800, 3600))\n",
    "\n",
    "# Reshape the last two dimensions so that:\n",
    "# 1800 -> (600, 3) and 3600 -> (1200, 3)\n",
    "reshaped = super_tensor.reshape(5, 2, 288, 600, 3, 1200, 3)\n",
    "\n",
    "# Compute the mean over the 3x3 blocks (axis 4 and axis 6)\n",
    "kernelized_tensor = reshaped.mean(axis=(4, 6))\n",
    "\n",
    "print(kernelized_tensor.shape)  # Expected shape: (5, 2, 288, 600, 1200)"
   ]
  }
 ],
 "metadata": {
  "kernelspec": {
   "display_name": ".venv",
   "language": "python",
   "name": "python3"
  },
  "language_info": {
   "codemirror_mode": {
    "name": "ipython",
    "version": 3
   },
   "file_extension": ".py",
   "mimetype": "text/x-python",
   "name": "python",
   "nbconvert_exporter": "python",
   "pygments_lexer": "ipython3",
   "version": "3.11.9"
  }
 },
 "nbformat": 4,
 "nbformat_minor": 2
}
