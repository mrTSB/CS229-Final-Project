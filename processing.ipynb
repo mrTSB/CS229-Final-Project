{
 "cells": [
  {
   "cell_type": "code",
   "execution_count": 1,
   "metadata": {},
   "outputs": [
    {
     "name": "stdout",
     "output_type": "stream",
     "text": [
      "File exists and is 74649600000 bytes\n",
      "First few bytes: b'\\x00\\x00\\x00\\x00\\x00\\x00\\x00\\x00\\x00\\x00'\n"
     ]
    }
   ],
   "source": [
    "import os\n",
    "import numpy as np\n",
    "\n",
    "# Check if file exists and its size\n",
    "if os.path.exists('super_emissions_tensor.npy'):\n",
    "    size = os.path.getsize('super_emissions_tensor.npy')\n",
    "    print(f\"File exists and is {size} bytes\")\n",
    "else:\n",
    "    print(\"File does not exist\")\n",
    "\n",
    "# Try loading with a different method\n",
    "try:\n",
    "    with open('super_emissions_tensor.npy', 'rb') as f:\n",
    "        print(\"First few bytes:\", f.read(10))\n",
    "except Exception as e:\n",
    "    print(f\"Error reading file: {e}\")"
   ]
  },
  {
   "cell_type": "code",
   "execution_count": 5,
   "metadata": {},
   "outputs": [
    {
     "name": "stdout",
     "output_type": "stream",
     "text": [
      "Total elements in data: 9331200000\n",
      "Total elements in proposed shape: 9331200000\n",
      "Tensor shape: (5, 2, 288, 1800, 1800)\n"
     ]
    }
   ],
   "source": [
    "import numpy as np\n",
    "\n",
    "# Define the dimensions\n",
    "molecules = 5  # CH4, CO2, N2O, CO2bio, GWA\n",
    "emission_types = 2  # emissions and fluxes\n",
    "time_steps = 288  # 3 years × 12 months\n",
    "lat = 1800  # spatial grid latitude\n",
    "lon = 1800  # spatial grid longitude\n",
    "\n",
    "# Load the data in memory-efficient way using memmap\n",
    "data = np.memmap('EDGAR/super_emissions_tensor.npy', dtype=np.float64, mode='r', offset=128)  # Try with offset\n",
    "\n",
    "# Verify the numbers\n",
    "print(f\"Total elements in data: {len(data)}\")\n",
    "print(f\"Total elements in proposed shape: {molecules * emission_types * time_steps * lat * lon}\")\n",
    "\n",
    "# Reshape the data\n",
    "tensor = data.reshape((molecules, emission_types, time_steps, lat, lon))\n",
    "\n",
    "# Print the shape to verify\n",
    "print(f\"Tensor shape: {tensor.shape}\")"
   ]
  },
  {
   "cell_type": "code",
   "execution_count": 5,
   "metadata": {},
   "outputs": [
    {
     "data": {
      "text/plain": [
       "(5, 2, 288, 1800, 1800)"
      ]
     },
     "execution_count": 5,
     "metadata": {},
     "output_type": "execute_result"
    }
   ],
   "source": [
    "tensor.shape"
   ]
  },
  {
   "cell_type": "code",
   "execution_count": 4,
   "metadata": {},
   "outputs": [
    {
     "name": "stdout",
     "output_type": "stream",
     "text": [
      "Sample values at the center of the spatial grid (first month):\n",
      "------------------------------------------------------------\n",
      "CH4 Emissions: 0.0\n",
      "CH4 Fluxes: 0.0\n",
      "CO2 Emissions: 0.0\n",
      "CO2 Fluxes: 0.0\n",
      "N2O Emissions: 0.0\n",
      "N2O Fluxes: 0.0\n",
      "CO2bio Emissions: 0.0\n",
      "CO2bio Fluxes: 0.0\n",
      "GWA Emissions: 0.0\n",
      "GWA Fluxes: 0.0\n",
      "\n",
      "Temporal variation for CH4 emissions at center point:\n",
      "------------------------------------------------------------\n",
      "Monthly values for first year:\n",
      "Month 1: 0.0\n",
      "Month 2: 0.0\n",
      "Month 3: 0.0\n",
      "Month 4: 0.0\n",
      "Month 5: 0.0\n",
      "Month 6: 0.0\n",
      "Month 7: 0.0\n",
      "Month 8: 0.0\n",
      "Month 9: 0.0\n",
      "Month 10: 0.0\n",
      "Month 11: 0.0\n",
      "Month 12: 0.0\n",
      "\n",
      "Overall statistics for each molecule:\n",
      "------------------------------------------------------------\n",
      "\n",
      "CH4:\n",
      "Min: 0.0\n",
      "Max: 5.574676752495975e+44\n",
      "Mean: 5.234314515469449e+37\n",
      "Non-zero values: 16.65% of points\n",
      "\n",
      "CO2:\n",
      "Min: 0.0\n",
      "Max: 3.506869854316782e+36\n",
      "Mean: 1.9652271198529748e+28\n",
      "Non-zero values: 9.98% of points\n",
      "\n",
      "N2O:\n",
      "Min: 0.0\n",
      "Max: 6.143620504390603e+39\n",
      "Mean: 3.3251708901623096e+31\n",
      "Non-zero values: 11.20% of points\n",
      "\n",
      "CO2bio:\n",
      "Min: 0.0\n",
      "Max: 2.2975671290033665e+56\n",
      "Mean: 2.3075516990552927e+49\n",
      "Non-zero values: 25.17% of points\n",
      "\n",
      "GWA:\n",
      "Min: 0.0\n",
      "Max: 2.8213760413677748e+20\n",
      "Mean: 12027951771753.615\n",
      "Non-zero values: 25.17% of points\n"
     ]
    }
   ],
   "source": [
    "# Print example values and explanations\n",
    "molecules = ['CH4', 'CO2', 'N2O', 'CO2bio', 'GWA']\n",
    "types = ['Emissions', 'Fluxes']\n",
    "\n",
    "# Look at center point of the grid for first timestamp\n",
    "lat_center = 900\n",
    "lon_center = 900\n",
    "time_idx = 0\n",
    "\n",
    "print(\"Sample values at the center of the spatial grid (first month):\")\n",
    "print(\"-\" * 60)\n",
    "for mol_idx, mol_name in enumerate(molecules):\n",
    "    for type_idx, type_name in enumerate(types):\n",
    "        value = tensor[mol_idx, type_idx, time_idx, lat_center, lon_center]\n",
    "        print(f\"{mol_name} {type_name}: {value}\")\n",
    "\n",
    "# Look at temporal variation for one location and one molecule\n",
    "print(\"\\nTemporal variation for CH4 emissions at center point:\")\n",
    "print(\"-\" * 60)\n",
    "# Get values for first year (12 months)\n",
    "ch4_year1 = tensor[0, 0, 0:12, lat_center, lon_center]\n",
    "print(\"Monthly values for first year:\")\n",
    "for month, value in enumerate(ch4_year1, 1):\n",
    "    print(f\"Month {month}: {value}\")\n",
    "\n",
    "# Basic statistics for each molecule\n",
    "print(\"\\nOverall statistics for each molecule:\")\n",
    "print(\"-\" * 60)\n",
    "for mol_idx, mol_name in enumerate(molecules):\n",
    "    data = tensor[mol_idx]\n",
    "    print(f\"\\n{mol_name}:\")\n",
    "    print(f\"Min: {np.min(data)}\")\n",
    "    print(f\"Max: {np.max(data)}\")\n",
    "    print(f\"Mean: {np.mean(data)}\")\n",
    "    print(f\"Non-zero values: {np.count_nonzero(data)/data.size*100:.2f}% of points\")"
   ]
  }
 ],
 "metadata": {
  "kernelspec": {
   "display_name": ".venv",
   "language": "python",
   "name": "python3"
  },
  "language_info": {
   "codemirror_mode": {
    "name": "ipython",
    "version": 3
   },
   "file_extension": ".py",
   "mimetype": "text/x-python",
   "name": "python",
   "nbconvert_exporter": "python",
   "pygments_lexer": "ipython3",
   "version": "3.11.9"
  }
 },
 "nbformat": 4,
 "nbformat_minor": 2
}
